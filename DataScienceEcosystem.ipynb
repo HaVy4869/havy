{
 "cells": [
  {
   "cell_type": "markdown",
   "id": "bb4b2952-0049-45a7-a26a-1b2c2cfaa508",
   "metadata": {},
   "source": [
    "# Data Science Tools and Ecosystem"
   ]
  },
  {
   "cell_type": "markdown",
   "id": "bef2b1c0-3b6f-4783-9480-2311abddf557",
   "metadata": {},
   "source": [
    "In this notebook, Data Science Tools and Ecosystem are summarized."
   ]
  },
  {
   "cell_type": "markdown",
   "id": "e4e737dc-698e-4f33-8017-2ddcb4fe144c",
   "metadata": {
    "tags": []
   },
   "source": [
    "**Objectives:**\n",
    "\n",
    "- List popular languages for Data Science.\n",
    "- Introduce common libraries used in Data Science.\n",
    "- Create and format tables in Markdown.\n",
    "- Evaluate arithmetic expressions in Python.\n",
    "- Understand basic operations like converting minutes to hours.\n"
   ]
  },
  {
   "cell_type": "markdown",
   "id": "31ac1eb2-c7ce-4ba4-a73d-ac7040e81f91",
   "metadata": {},
   "source": [
    "Some of the popular languages that Data Scientists use are:\n",
    "1. **Python**\n",
    "2. **R**\n",
    "3. **SQL (Structured Query Language)**\n",
    "5. **Scala**"
   ]
  },
  {
   "cell_type": "markdown",
   "id": "2006f610-c0ae-48ed-b3f7-19d1541a86fa",
   "metadata": {},
   "source": [
    "Some of the commonly used libraries used by Data Scientists include:\n",
    "1. **NumPy:**\n",
    "   - NumPy is a fundamental package for scientific computing with Python. It provides support for large, multi-dimensional arrays and matrices, along with mathematical functions to operate on these arrays.\n",
    "\n",
    "2. **Pandas:**\n",
    "   - Pandas is a powerful data manipulation and analysis library. It provides data structures like DataFrames and Series, making it easy to handle and analyze structured data.\n",
    "\n",
    "3. **scikit-learn:**\n",
    "   - scikit-learn is a machine learning library for Python. It includes various tools for classification, regression, clustering, dimensionality reduction, and more.\n",
    "\n",
    "4. **Matplotlib:**\n",
    "   - Matplotlib is a 2D plotting library for creating static, interactive, and animated visualizations in Python. It is commonly used for data visualization tasks.\n",
    "\n",
    "5. **TensorFlow:**\n",
    "   - TensorFlow is an open-source machine learning library developed by Google. It is widely used for building and training deep learning models.\n",
    "\n",
    "6. **PyTorch:**\n",
    "   - PyTorch is an open-source machine learning library developed by Facebook. It is known for its dynamic computation graph and is popular among researchers and practitioners in deep learning.\n"
   ]
  },
  {
   "cell_type": "markdown",
   "id": "f5c853ff-3faa-4a69-b75d-2ee8b3bdf1a0",
   "metadata": {},
   "source": [
    "| Data Science Tools        |\n",
    "|---------------------------|\n",
    "| Jupyter Notebook          |\n",
    "| RStudio                   |\n",
    "| Visual Studio Code (VSCode)|\n"
   ]
  },
  {
   "cell_type": "markdown",
   "id": "c8a7217f-8eb0-41ef-998f-b96da461eb9b",
   "metadata": {},
   "source": [
    "### Below are a few examples of evaluating arithmetic expressions in Python."
   ]
  },
  {
   "cell_type": "code",
   "execution_count": 1,
   "id": "5c199e13-832e-4c9c-b872-0446e247df94",
   "metadata": {
    "tags": []
   },
   "outputs": [
    {
     "name": "stdout",
     "output_type": "stream",
     "text": [
      "17\n"
     ]
    }
   ],
   "source": [
    "# This is a simple arithmetic expression to multiply then add integers.\n",
    "result = (3 * 4) + 5\n",
    "\n",
    "# Print the result to check if it returns the expected output of 17.\n",
    "print(result)"
   ]
  },
  {
   "cell_type": "code",
   "execution_count": 2,
   "id": "11bffff9-569a-4e49-9212-bb6cbe5f21ab",
   "metadata": {
    "tags": []
   },
   "outputs": [
    {
     "name": "stdout",
     "output_type": "stream",
     "text": [
      "3.3333333333333335\n"
     ]
    }
   ],
   "source": [
    "# This will convert 200 minutes to hours by dividing by 60.\n",
    "minutes = 200\n",
    "hours = minutes / 60\n",
    "\n",
    "# Print the result to check the conversion.\n",
    "print(hours)\n"
   ]
  },
  {
   "cell_type": "markdown",
   "id": "ac92ed14-59b5-4da4-bb0b-5ffd84c4a5dc",
   "metadata": {},
   "source": [
    " ## Author\n",
    "\n",
    "Ha Vy Trinh\n"
   ]
  },
  {
   "cell_type": "code",
   "execution_count": null,
   "id": "e11b065c-e04a-420d-b6e4-8558fdf01f1b",
   "metadata": {},
   "outputs": [],
   "source": []
  }
 ],
 "metadata": {
  "kernelspec": {
   "display_name": "Python",
   "language": "python",
   "name": "conda-env-python-py"
  },
  "language_info": {
   "codemirror_mode": {
    "name": "ipython",
    "version": 3
   },
   "file_extension": ".py",
   "mimetype": "text/x-python",
   "name": "python",
   "nbconvert_exporter": "python",
   "pygments_lexer": "ipython3",
   "version": "3.7.12"
  }
 },
 "nbformat": 4,
 "nbformat_minor": 5
}
